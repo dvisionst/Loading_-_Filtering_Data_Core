{
  "nbformat": 4,
  "nbformat_minor": 0,
  "metadata": {
    "colab": {
      "name": "Loading & Filtering Data (Core).ipynb",
      "provenance": [],
      "collapsed_sections": []
    },
    "kernelspec": {
      "name": "python3",
      "display_name": "Python 3"
    },
    "language_info": {
      "name": "python"
    }
  },
  "cells": [
    {
      "cell_type": "markdown",
      "source": [
        "# Loading & Filtering Data (Core)\n",
        "- Jose Flores\n",
        "- 06/28/2022"
      ],
      "metadata": {
        "id": "mvMJLGZjxVtL"
      }
    },
    {
      "cell_type": "code",
      "source": [
        "# Import the data as a Pandas DataFrame (you only need to worry \n",
        "# about the first sheet/tab in the file). Name the DataFrame bike_df. \n",
        "# Then, complete the following:\n",
        "\n",
        "import pandas as pd\n",
        "bike_df = pd.read_excel('/content/RailsToTrails_National Count Data_week.xlsx')\n"
      ],
      "metadata": {
        "id": "jS4ucn_Bxe9_"
      },
      "execution_count": null,
      "outputs": []
    },
    {
      "cell_type": "markdown",
      "source": [
        "##Filtering Practice"
      ],
      "metadata": {
        "id": "DIyvX5XM0QdO"
      }
    },
    {
      "cell_type": "code",
      "execution_count": null,
      "metadata": {
        "id": "sXNnJEhrxPmU"
      },
      "outputs": [],
      "source": [
        "# 1. Select just the data after July 31, 2020 and save it as a variable \n",
        "# such as df_filtered\n",
        "\n",
        "bike_df_filtered_by_date = bike_df['Week of' ] > '2020-07-31'\n",
        "bike_df[bike_df_filtered_by_date]\n"
      ]
    },
    {
      "cell_type": "code",
      "source": [
        "# 2. Find how many entries occurred after July 31, 2020 \n",
        "# Hint:  use len(df_filtered) to get the length of the dataframe\n",
        "\n",
        "len(bike_df[bike_df_filtered_by_date])"
      ],
      "metadata": {
        "colab": {
          "base_uri": "https://localhost:8080/"
        },
        "id": "iDt-yGLG3Z4J",
        "outputId": "c39d2aa4-e2a0-4471-c9a6-0f234cbf73a6"
      },
      "execution_count": 68,
      "outputs": [
        {
          "output_type": "execute_result",
          "data": {
            "text/plain": [
              "22"
            ]
          },
          "metadata": {},
          "execution_count": 68
        }
      ]
    },
    {
      "cell_type": "code",
      "source": [
        "# 3. Select just data where the 'Change 2019 -2020' column is \n",
        "# greater than 50% (greater than .5).\n",
        "\n",
        "\n",
        "over_50_change_filter = bike_df['Change 2019-2020'] > 0.5\n",
        "bike_df[over_50_change_filter]"
      ],
      "metadata": {
        "id": "CQnxGDGi3t_G"
      },
      "execution_count": null,
      "outputs": []
    },
    {
      "cell_type": "code",
      "source": [
        "from operator import ne\n",
        "# 4. Put these together! When filtering you can use  \"&\" to combine two filters. \n",
        "#Determine how many weeks in the second half of the year (after July 31, 2020) \n",
        "# also had a change greater than 50%? Hint: use len()\n",
        "\n",
        "len(bike_df.loc[bike_df_filtered_by_date & over_50_change_filter])\n"
      ],
      "metadata": {
        "id": "OOmcGyCi5QWP"
      },
      "execution_count": null,
      "outputs": []
    },
    {
      "cell_type": "code",
      "source": [
        "# 5. Next, make a new combined filter where you only include changes greater \n",
        "# than 100% that also occurred after July 31, 2020.  Display the filtered \n",
        "# DataFrame.  Were there any weeks in the second half of the year \n",
        "# (after July 31, 2020) where the change was greater than 100%? Hint: If you \n",
        "# only see column headers with no data, this means no rows met both conditions\n",
        "\n",
        "over_100_change_filter = bike_df['Change 2019-2020'] > 1\n",
        "bike_df.loc[over_100_change_filter & bike_df_filtered_by_date]\n",
        "\n"
      ],
      "metadata": {
        "id": "xAPPbGbi9icP"
      },
      "execution_count": null,
      "outputs": []
    },
    {
      "cell_type": "markdown",
      "source": [
        "# Answering number 5:\n",
        "\n",
        "Were there any weeks in the second half of the year \n",
        "(after July 31, 2020) where the change was greater than 100%?\n",
        "\n",
        "No the DataFrame was empty it only contained headers. It can be confirmed by using the filter on bike_df and then the Dataframe is displayed:\n",
        "\n",
        "bike_df[over_100_change_filter]\n",
        "\n",
        "The above only displays 5 rows all with dates earlier than July 31st, 2020. "
      ],
      "metadata": {
        "id": "bnejGIPt-gcF"
      }
    }
  ]
}